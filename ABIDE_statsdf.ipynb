{
 "cells": [
  {
   "cell_type": "code",
   "execution_count": 3,
   "metadata": {},
   "outputs": [],
   "source": [
    "import os.path as op\n",
    "import pandas as pd\n",
    "import numpy as np"
   ]
  },
  {
   "cell_type": "code",
   "execution_count": null,
   "metadata": {},
   "outputs": [],
   "source": [
    "# location of partipcant csv files\n",
    "data_dir = \"./dset\"\n"
   ]
  },
  {
   "cell_type": "code",
   "execution_count": 20,
   "metadata": {},
   "outputs": [
    {
     "name": "stdout",
     "output_type": "stream",
     "text": [
      "      ABIDE  DX_GROUP  DSM_IV_TR  AGE_AT_SCAN  SEX  HANDEDNESS_CATEGORY  \\\n",
      "0         1         1        1.0        16.77    1                  3.0   \n",
      "1         1         1        1.0        19.09    1                  1.0   \n",
      "2         1         1        1.0        13.73    2                  1.0   \n",
      "3         1         1        1.0        13.37    1                  2.0   \n",
      "4         1         1        1.0        17.78    1                  1.0   \n",
      "...     ...       ...        ...          ...  ...                  ...   \n",
      "1381      2         2        0.0        13.95    2                  1.0   \n",
      "1382      2         2        0.0        15.35    1                  1.0   \n",
      "1383      2         2        0.0        11.81    1                  1.0   \n",
      "1384      2         2        0.0        14.37    1                  2.0   \n",
      "1385      2         2        0.0        12.83    1                  1.0   \n",
      "\n",
      "      CURRENT_MED_STATUS  \n",
      "0                    0.0  \n",
      "1                    0.0  \n",
      "2                    1.0  \n",
      "3                    0.0  \n",
      "4                    0.0  \n",
      "...                  ...  \n",
      "1381                 0.0  \n",
      "1382                 0.0  \n",
      "1383                 0.0  \n",
      "1384                 0.0  \n",
      "1385                 0.0  \n",
      "\n",
      "[1386 rows x 7 columns]\n"
     ]
    }
   ],
   "source": [
    "# location of partipcant csv files\n",
    "data_dir = \"./dset\"\n",
    "csv_dir = \"/Users/chloehampson/Desktop/nbc/ABIDE/Hb_abide/csv_files\"\n",
    "\n",
    "# just calling the abide df that we are going to manipulate\n",
    "df = pd.read_csv(op.join(csv_dir, \"abide.csv\"))\n",
    "\n",
    "\n",
    "stat_df = df[\n",
    "    [\n",
    "        \"ABIDE\",\n",
    "        \"DX_GROUP\",\n",
    "        \"DSM_IV_TR\",\n",
    "        \"AGE_AT_SCAN\",\n",
    "        \"SEX\",\n",
    "        \"HANDEDNESS_CATEGORY\",\n",
    "        \"CURRENT_MED_STATUS\"\n",
    "    ]\n",
    "]\n",
    "print(stat_df)"
   ]
  },
  {
   "cell_type": "code",
   "execution_count": 21,
   "metadata": {},
   "outputs": [
    {
     "name": "stdout",
     "output_type": "stream",
     "text": [
      "      ABIDE  DX_GROUP  DSM_IV_TR_1  DSM_IV_TR_2  AGE_AT_SCAN_1  AGE_AT_SCAN_2  \\\n",
      "0         1         1          1.0          NaN          16.77            NaN   \n",
      "1         1         1          1.0          NaN          19.09            NaN   \n",
      "2         1         1          1.0          NaN          13.73            NaN   \n",
      "3         1         1          1.0          NaN          13.37            NaN   \n",
      "4         1         1          1.0          NaN          17.78            NaN   \n",
      "...     ...       ...          ...          ...            ...            ...   \n",
      "1381      2         2          NaN          0.0            NaN          13.95   \n",
      "1382      2         2          NaN          0.0            NaN          15.35   \n",
      "1383      2         2          NaN          0.0            NaN          11.81   \n",
      "1384      2         2          NaN          0.0            NaN          14.37   \n",
      "1385      2         2          NaN          0.0            NaN          12.83   \n",
      "\n",
      "      SEX_1  SEX_2  HANDEDNESS_CATEGORY_1  HANDEDNESS_CATEGORY_2  \\\n",
      "0       1.0    NaN                    3.0                    NaN   \n",
      "1       1.0    NaN                    1.0                    NaN   \n",
      "2       2.0    NaN                    1.0                    NaN   \n",
      "3       1.0    NaN                    2.0                    NaN   \n",
      "4       1.0    NaN                    1.0                    NaN   \n",
      "...     ...    ...                    ...                    ...   \n",
      "1381    NaN    2.0                    NaN                    1.0   \n",
      "1382    NaN    1.0                    NaN                    1.0   \n",
      "1383    NaN    1.0                    NaN                    1.0   \n",
      "1384    NaN    1.0                    NaN                    2.0   \n",
      "1385    NaN    1.0                    NaN                    1.0   \n",
      "\n",
      "      CURRENT_MED_STATUS_1  CURRENT_MED_STATUS_2  \n",
      "0                      0.0                   NaN  \n",
      "1                      0.0                   NaN  \n",
      "2                      1.0                   NaN  \n",
      "3                      0.0                   NaN  \n",
      "4                      0.0                   NaN  \n",
      "...                    ...                   ...  \n",
      "1381                   NaN                   0.0  \n",
      "1382                   NaN                   0.0  \n",
      "1383                   NaN                   0.0  \n",
      "1384                   NaN                   0.0  \n",
      "1385                   NaN                   0.0  \n",
      "\n",
      "[1386 rows x 12 columns]\n"
     ]
    }
   ],
   "source": [
    "# Assuming your DataFrame is named df\n",
    "columns_to_split = [\n",
    "    \"DSM_IV_TR\",\n",
    "    \"AGE_AT_SCAN\",\n",
    "    \"SEX\",\n",
    "    \"HANDEDNESS_CATEGORY\",\n",
    "    \"CURRENT_MED_STATUS\",\n",
    "]\n",
    "\n",
    "new_stat_df = stat_df.copy()  # Create a copy to avoid modifying the original DataFrame\n",
    "\n",
    "for column in columns_to_split:\n",
    "    new_column_name_1 = f\"{column}_1\"\n",
    "    new_column_name_2 = f\"{column}_2\"\n",
    "\n",
    "    # Create new columns based on DX_GROUP values\n",
    "    new_stat_df[new_column_name_1] = np.where(\n",
    "        new_stat_df[\"DX_GROUP\"] == 1, new_stat_df[column], np.nan\n",
    "    )\n",
    "    new_stat_df[new_column_name_2] = np.where(\n",
    "        new_stat_df[\"DX_GROUP\"] == 2, new_stat_df[column], np.nan\n",
    "    )\n",
    "\n",
    "    # Drop the orgiginal column\n",
    "    new_stat_df = new_stat_df.drop(column, axis=1)\n",
    "\n",
    "# Print the updated DataFrame\n",
    "print(new_stat_df)\n",
    "\n",
    "# Save the melted DataFrame to the CSV file\n",
    "csv_file_path = op.join(csv_dir, \"abide_stat.csv\")\n",
    "new_stat_df.to_csv(csv_file_path, index=False)"
   ]
  }
 ],
 "metadata": {
  "kernelspec": {
   "display_name": ".venv",
   "language": "python",
   "name": "python3"
  },
  "language_info": {
   "codemirror_mode": {
    "name": "ipython",
    "version": 3
   },
   "file_extension": ".py",
   "mimetype": "text/x-python",
   "name": "python",
   "nbconvert_exporter": "python",
   "pygments_lexer": "ipython3",
   "version": "3.12.0"
  }
 },
 "nbformat": 4,
 "nbformat_minor": 2
}
